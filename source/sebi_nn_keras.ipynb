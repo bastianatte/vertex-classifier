{
 "cells": [
  {
   "cell_type": "code",
   "execution_count": 2,
   "metadata": {},
   "outputs": [],
   "source": [
    "import uproot "
   ]
  },
  {
   "cell_type": "code",
   "execution_count": 3,
   "metadata": {},
   "outputs": [
    {
     "name": "stderr",
     "output_type": "stream",
     "text": [
      "/home/sebi/anaconda3/lib/python3.6/site-packages/h5py/__init__.py:36: FutureWarning: Conversion of the second argument of issubdtype from `float` to `np.floating` is deprecated. In future, it will be treated as `np.float64 == np.dtype(float).type`.\n",
      "  from ._conv import register_converters as _register_converters\n",
      "Using TensorFlow backend.\n"
     ]
    }
   ],
   "source": [
    "import pandas                                                                      \n",
    "import keras                                                                       \n",
    "                                                                                   \n",
    "from keras import layers, models                                                   \n",
    "from keras.models import Sequential                                                \n",
    "from keras.layers import Dense  "
   ]
  },
  {
   "cell_type": "code",
   "execution_count": 4,
   "metadata": {},
   "outputs": [],
   "source": [
    "f = uproot.open(\"/home/sebi/Documents/lxplus-stuff/QT_NN/Data/NN_full.root\")                                                                                 \n",
    "tree = f['Merged_Analysis;1']"
   ]
  },
  {
   "cell_type": "code",
   "execution_count": null,
   "metadata": {},
   "outputs": [],
   "source": [
    "##################DATAFRAME##################\n",
    "dataframe = tree.pandas.df()                                                       \n",
    "\n",
    "#dataset = tree.pandas.df([\"Match_z\",\"Match_tracks\",\"Merge_z\",\"Merge_tracks\",\"ismerge\"]) \n",
    "dataset = tree.pandas.df([\"Match_z\",\"Match_tracks\",\"Merge_z\",\"Merge_tracks\",\"Split_z\",\"Split_tracks\",\"Fake_z\",\"Fake_tracks\",\"ismerge\"]) \n",
    "\n",
    "print (dataset.describe()) \n",
    "print (dataset)\n",
    "                                                                                   \n",
    "                                                                                   \n",
    "features = dataset.loc[:, dataset.columns != \"ismerge\"].values   \n",
    "labels = dataset.loc[:, \"ismerge\"].values                                       "
   ]
  },
  {
   "cell_type": "code",
   "execution_count": 23,
   "metadata": {},
   "outputs": [],
   "source": [
    "from sklearn.model_selection import train_test_split\n",
    "X_train, X_test, y_train, y_test = train_test_split(\n",
    "    features, labels, test_size=0.2, random_state=42)\n",
    "\n",
    "model = Sequential()\n",
    "model.add(Dense(units=4,kernel_initializer='uniform', activation='relu'))\n",
    "#model.add(Dense(units=8, activation='sigmoid'))\n",
    "#model.add(Dense(units=8, activation='softmax'))\n",
    "#model.add(Dense(units=4, activation='softmax'))\n",
    "model.add(Dense(units=2,kernel_initializer='uniform', activation='sigmoid'))\n",
    "#model.add(Dense(units=1, activation='softmax'))\n",
    "model.add(Dense(units=1,kernel_initializer='uniform', activation='tanh'))\n"
   ]
  },
  {
   "cell_type": "code",
   "execution_count": 24,
   "metadata": {},
   "outputs": [],
   "source": [
    "model.compile(loss='binary_crossentropy',\n",
    "              optimizer='sgd',\n",
    "              metrics=['accuracy'])"
   ]
  },
  {
   "cell_type": "code",
   "execution_count": 25,
   "metadata": {},
   "outputs": [
    {
     "name": "stdout",
     "output_type": "stream",
     "text": [
      "Train on 48600 samples, validate on 12150 samples\n",
      "Epoch 1/20\n",
      "48600/48600 [==============================] - 7s 153us/step - loss: 3.0933 - acc: 0.8081 - val_loss: 3.1175 - val_acc: 0.8066\n",
      "Epoch 2/20\n",
      "48600/48600 [==============================] - 8s 159us/step - loss: 3.0933 - acc: 0.8081 - val_loss: 3.1175 - val_acc: 0.8066\n",
      "Epoch 3/20\n",
      "48600/48600 [==============================] - 9s 195us/step - loss: 3.0933 - acc: 0.8081 - val_loss: 3.1175 - val_acc: 0.8066\n",
      "Epoch 4/20\n",
      "48600/48600 [==============================] - 5s 103us/step - loss: 3.0933 - acc: 0.8081 - val_loss: 3.1175 - val_acc: 0.8066\n",
      "Epoch 5/20\n",
      "48600/48600 [==============================] - 3s 71us/step - loss: 3.0933 - acc: 0.8081 - val_loss: 3.1175 - val_acc: 0.8066\n",
      "Epoch 6/20\n",
      "48600/48600 [==============================] - 3s 64us/step - loss: 3.0933 - acc: 0.8081 - val_loss: 3.1175 - val_acc: 0.8066\n",
      "Epoch 7/20\n",
      "48600/48600 [==============================] - 3s 69us/step - loss: 3.0933 - acc: 0.8081 - val_loss: 3.1175 - val_acc: 0.8066\n",
      "Epoch 8/20\n",
      "48600/48600 [==============================] - 7s 134us/step - loss: 3.0933 - acc: 0.8081 - val_loss: 3.1175 - val_acc: 0.8066\n",
      "Epoch 9/20\n",
      "48600/48600 [==============================] - 4s 92us/step - loss: 3.0933 - acc: 0.8081 - val_loss: 3.1175 - val_acc: 0.8066\n",
      "Epoch 10/20\n",
      "48600/48600 [==============================] - 8s 174us/step - loss: 3.0933 - acc: 0.8081 - val_loss: 3.1175 - val_acc: 0.8066\n",
      "Epoch 11/20\n",
      "48600/48600 [==============================] - 14s 296us/step - loss: 3.0933 - acc: 0.8081 - val_loss: 3.1175 - val_acc: 0.8066\n",
      "Epoch 12/20\n",
      "48600/48600 [==============================] - 7s 144us/step - loss: 3.0933 - acc: 0.8081 - val_loss: 3.1175 - val_acc: 0.8066\n",
      "Epoch 13/20\n",
      "48600/48600 [==============================] - 6s 113us/step - loss: 3.0933 - acc: 0.8081 - val_loss: 3.1175 - val_acc: 0.8066\n",
      "Epoch 14/20\n",
      "48600/48600 [==============================] - 4s 88us/step - loss: 3.0933 - acc: 0.8081 - val_loss: 3.1175 - val_acc: 0.8066\n",
      "Epoch 15/20\n",
      "48600/48600 [==============================] - 5s 99us/step - loss: 3.0933 - acc: 0.8081 - val_loss: 3.1175 - val_acc: 0.8066\n",
      "Epoch 16/20\n",
      "48600/48600 [==============================] - 6s 121us/step - loss: 3.0933 - acc: 0.8081 - val_loss: 3.1175 - val_acc: 0.8066\n",
      "Epoch 17/20\n",
      "48600/48600 [==============================] - 4s 75us/step - loss: 3.0933 - acc: 0.8081 - val_loss: 3.1175 - val_acc: 0.8066\n",
      "Epoch 18/20\n",
      "48600/48600 [==============================] - 5s 98us/step - loss: 3.0933 - acc: 0.8081 - val_loss: 3.1175 - val_acc: 0.8066\n",
      "Epoch 19/20\n",
      "48600/48600 [==============================] - 6s 118us/step - loss: 3.0933 - acc: 0.8081 - val_loss: 3.1175 - val_acc: 0.8066\n",
      "Epoch 20/20\n",
      "48600/48600 [==============================] - 7s 147us/step - loss: 3.0933 - acc: 0.8081 - val_loss: 3.1175 - val_acc: 0.8066\n"
     ]
    },
    {
     "data": {
      "text/plain": [
       "<keras.callbacks.History at 0x7f80526c6ef0>"
      ]
     },
     "execution_count": 25,
     "metadata": {},
     "output_type": "execute_result"
    }
   ],
   "source": [
    "from keras.callbacks import TensorBoard\n",
    "\n",
    "tensorboard = TensorBoard(log_dir='./logs/run1/', \n",
    "                          write_graph=True, \n",
    "                          write_images=False)\n",
    "\n",
    "\n",
    "#model.fit(features, labels, epochs=10, batch_size=50) #verbose=0 \n",
    "#model.fit(features, labels, epochs=3, batch_size=100) #verbose=0\n",
    "model.fit(X_train, y_train,\n",
    "          epochs=20,\n",
    "          validation_data=(X_test, y_test),\n",
    "          shuffle=True,\n",
    "          #verbose=False,\n",
    "          callbacks=[tensorboard])\n"
   ]
  },
  {
   "cell_type": "code",
   "execution_count": 26,
   "metadata": {},
   "outputs": [
    {
     "name": "stdout",
     "output_type": "stream",
     "text": [
      "60750/60750 [==============================] - 4s 68us/step\n",
      "acc: 80.78%\n"
     ]
    }
   ],
   "source": [
    "scores = model.evaluate(features, labels) #verbose=0  \n",
    "print(\"%s: %.2f%%\" % (model.metrics_names[1], scores[1]*100))                      \n"
   ]
  },
  {
   "cell_type": "code",
   "execution_count": 24,
   "metadata": {},
   "outputs": [
    {
     "name": "stdout",
     "output_type": "stream",
     "text": [
      "_________________________________________________________________\n",
      "Layer (type)                 Output Shape              Param #   \n",
      "=================================================================\n",
      "dense_37 (Dense)             (None, 64)                320       \n",
      "_________________________________________________________________\n",
      "dense_38 (Dense)             (None, 8)                 520       \n",
      "_________________________________________________________________\n",
      "dense_39 (Dense)             (None, 4)                 36        \n",
      "_________________________________________________________________\n",
      "dense_40 (Dense)             (None, 1)                 5         \n",
      "=================================================================\n",
      "Total params: 881\n",
      "Trainable params: 881\n",
      "Non-trainable params: 0\n",
      "_________________________________________________________________\n"
     ]
    }
   ],
   "source": [
    "model.summary()"
   ]
  },
  {
   "cell_type": "code",
   "execution_count": 25,
   "metadata": {},
   "outputs": [
    {
     "data": {
      "text/plain": [
       "array([[1.],\n",
       "       [1.],\n",
       "       [1.],\n",
       "       ...,\n",
       "       [1.],\n",
       "       [1.],\n",
       "       [1.]], dtype=float32)"
      ]
     },
     "execution_count": 25,
     "metadata": {},
     "output_type": "execute_result"
    }
   ],
   "source": [
    "model.predict(features)"
   ]
  },
  {
   "cell_type": "code",
   "execution_count": null,
   "metadata": {},
   "outputs": [],
   "source": []
  }
 ],
 "metadata": {
  "kernelspec": {
   "display_name": "Python 3",
   "language": "python",
   "name": "python3"
  },
  "language_info": {
   "codemirror_mode": {
    "name": "ipython",
    "version": 3
   },
   "file_extension": ".py",
   "mimetype": "text/x-python",
   "name": "python",
   "nbconvert_exporter": "python",
   "pygments_lexer": "ipython3",
   "version": "3.6.5"
  }
 },
 "nbformat": 4,
 "nbformat_minor": 2
}
