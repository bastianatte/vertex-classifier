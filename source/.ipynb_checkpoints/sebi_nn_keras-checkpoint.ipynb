{
 "cells": [
  {
   "cell_type": "code",
   "execution_count": 1,
   "metadata": {},
   "outputs": [],
   "source": [
    "import uproot "
   ]
  },
  {
   "cell_type": "code",
   "execution_count": 2,
   "metadata": {},
   "outputs": [
    {
     "name": "stderr",
     "output_type": "stream",
     "text": [
      "/home/sebi/anaconda3/lib/python3.6/site-packages/h5py/__init__.py:36: FutureWarning: Conversion of the second argument of issubdtype from `float` to `np.floating` is deprecated. In future, it will be treated as `np.float64 == np.dtype(float).type`.\n",
      "  from ._conv import register_converters as _register_converters\n",
      "Using TensorFlow backend.\n"
     ]
    }
   ],
   "source": [
    "import pandas                                                                      \n",
    "import keras                                                                       \n",
    "                                                                                   \n",
    "from keras import layers, models                                                   \n",
    "from keras.models import Sequential                                                \n",
    "from keras.layers import Dense  "
   ]
  },
  {
   "cell_type": "code",
   "execution_count": 3,
   "metadata": {},
   "outputs": [],
   "source": [
    "f = uproot.open(\"/home/sebi/Documents/lxplus-stuff/QT_NN/Data/NN_full.root\")                                                                                 \n",
    "tree = f['Merged_Analysis;1']"
   ]
  },
  {
   "cell_type": "code",
   "execution_count": 39,
   "metadata": {},
   "outputs": [
    {
     "name": "stdout",
     "output_type": "stream",
     "text": [
      "            Match_z  Match_tracks       Merge_z  Merge_tracks       Split_z  \\\n",
      "count  60750.000000  60750.000000  60750.000000  60750.000000  60750.000000   \n",
      "mean       0.023574     18.724543     -0.050642      7.900988      0.031633   \n",
      "std       42.071266     23.635174     15.297500     23.387455      2.943524   \n",
      "min     -171.551636      0.000000   -147.824020      0.000000    -90.278732   \n",
      "25%      -24.378562      3.000000      0.000000      0.000000      0.000000   \n",
      "50%        0.000000      9.000000      0.000000      0.000000      0.000000   \n",
      "75%       24.057470     26.000000      0.000000      0.000000      0.000000   \n",
      "max      174.715912    189.000000    150.543427    246.000000    139.600830   \n",
      "\n",
      "       Split_tracks        Fake_z   Fake_tracks       ismerge  \n",
      "count  60750.000000  60750.000000  60750.000000  60750.000000  \n",
      "mean       0.043045     -0.144753      0.053745      0.192214  \n",
      "std        1.686408     10.942245      0.767824      0.394044  \n",
      "min        0.000000   -241.944214      0.000000      0.000000  \n",
      "25%        0.000000      0.000000      0.000000      0.000000  \n",
      "50%        0.000000      0.000000      0.000000      0.000000  \n",
      "75%        0.000000      0.000000      0.000000      0.000000  \n",
      "max      189.000000    231.316635    113.000000      1.000000  \n",
      "                   Match_z  Match_tracks    Merge_z  Merge_tracks  Split_z  \\\n",
      "entry subentry                                                               \n",
      "0     0         -45.397594          98.0   0.000000           0.0      0.0   \n",
      "      1           0.000000           0.0  82.057999          95.0      0.0   \n",
      "      2          45.878361          86.0   0.000000           0.0      0.0   \n",
      "      3          -0.165782          77.0   0.000000           0.0      0.0   \n",
      "      4          14.511066          79.0   0.000000           0.0      0.0   \n",
      "      5          -6.622627          40.0   0.000000           0.0      0.0   \n",
      "      6           0.000000           0.0   3.290536          14.0      0.0   \n",
      "      7           0.000000           0.0 -32.669205          72.0      0.0   \n",
      "      8           5.976046          43.0   0.000000           0.0      0.0   \n",
      "      9          90.326500          37.0   0.000000           0.0      0.0   \n",
      "      10         53.020226          26.0   0.000000           0.0      0.0   \n",
      "      11          0.000000           0.0 -19.046011          49.0      0.0   \n",
      "      12        -31.466370           9.0   0.000000           0.0      0.0   \n",
      "      13          0.000000           0.0  33.849186          47.0      0.0   \n",
      "      14         39.934273          23.0   0.000000           0.0      0.0   \n",
      "      15         13.247846           8.0   0.000000           0.0      0.0   \n",
      "      16        -22.786678          22.0   0.000000           0.0      0.0   \n",
      "      17         71.285545          15.0   0.000000           0.0      0.0   \n",
      "      18        -15.796266          10.0   0.000000           0.0      0.0   \n",
      "      19        -48.758488          10.0   0.000000           0.0      0.0   \n",
      "      20         59.418224          10.0   0.000000           0.0      0.0   \n",
      "      21          7.038874           3.0   0.000000           0.0      0.0   \n",
      "      22        -34.351662           5.0   0.000000           0.0      0.0   \n",
      "      23         84.115288           5.0   0.000000           0.0      0.0   \n",
      "      24        -40.346996           7.0   0.000000           0.0      0.0   \n",
      "      25          0.000000           0.0  28.852110           9.0      0.0   \n",
      "      26         35.953632           6.0   0.000000           0.0      0.0   \n",
      "      27         74.018700           2.0   0.000000           0.0      0.0   \n",
      "      28          0.000000           0.0 -26.905289           5.0      0.0   \n",
      "      29          0.000000           0.0 -51.139603           4.0      0.0   \n",
      "...                    ...           ...        ...           ...      ...   \n",
      "1998  26        -14.139146           3.0   0.000000           0.0      0.0   \n",
      "1999  0           0.000000           0.0   8.569958         119.0      0.0   \n",
      "      1         -34.998199         152.0   0.000000           0.0      0.0   \n",
      "      2          53.810650          44.0   0.000000           0.0      0.0   \n",
      "      3           0.000000           0.0  36.362679          66.0      0.0   \n",
      "      4           0.000000           0.0 -11.673518          61.0      0.0   \n",
      "      5           0.000000           0.0 -37.869019          23.0      0.0   \n",
      "      6         -55.021378          28.0   0.000000           0.0      0.0   \n",
      "      7          43.797947          27.0   0.000000           0.0      0.0   \n",
      "      8         108.379555          26.0   0.000000           0.0      0.0   \n",
      "      9         -13.655354          21.0   0.000000           0.0      0.0   \n",
      "      10        -36.530792          10.0   0.000000           0.0      0.0   \n",
      "      11          0.000000           0.0 -23.563759          34.0      0.0   \n",
      "      12         10.688868          13.0   0.000000           0.0      0.0   \n",
      "      13         -5.955637          16.0   0.000000           0.0      0.0   \n",
      "      14         16.297390          19.0   0.000000           0.0      0.0   \n",
      "      15        -83.761536          22.0   0.000000           0.0      0.0   \n",
      "      16        -17.565836          16.0   0.000000           0.0      0.0   \n",
      "      17         58.814613           9.0   0.000000           0.0      0.0   \n",
      "      18        -66.059395          10.0   0.000000           0.0      0.0   \n",
      "      19         34.816994           5.0   0.000000           0.0      0.0   \n",
      "      20        -30.318171          10.0   0.000000           0.0      0.0   \n",
      "      21        -52.294804           5.0   0.000000           0.0      0.0   \n",
      "      22        -25.668322           5.0   0.000000           0.0      0.0   \n",
      "      23        -20.529428           5.0   0.000000           0.0      0.0   \n",
      "      24         51.031796           6.0   0.000000           0.0      0.0   \n",
      "      25          0.000000           0.0  81.104141           7.0      0.0   \n",
      "      26        -15.637248           3.0   0.000000           0.0      0.0   \n",
      "      27         31.832195           4.0   0.000000           0.0      0.0   \n",
      "      28         -0.623459           4.0   0.000000           0.0      0.0   \n",
      "\n",
      "                Split_tracks  Fake_z  Fake_tracks  ismerge  \n",
      "entry subentry                                              \n",
      "0     0                  0.0     0.0          0.0        0  \n",
      "      1                  0.0     0.0          0.0        1  \n",
      "      2                  0.0     0.0          0.0        0  \n",
      "      3                  0.0     0.0          0.0        0  \n",
      "      4                  0.0     0.0          0.0        0  \n",
      "      5                  0.0     0.0          0.0        0  \n",
      "      6                  0.0     0.0          0.0        1  \n",
      "      7                  0.0     0.0          0.0        1  \n",
      "      8                  0.0     0.0          0.0        0  \n",
      "      9                  0.0     0.0          0.0        0  \n",
      "      10                 0.0     0.0          0.0        0  \n",
      "      11                 0.0     0.0          0.0        1  \n",
      "      12                 0.0     0.0          0.0        0  \n",
      "      13                 0.0     0.0          0.0        1  \n",
      "      14                 0.0     0.0          0.0        0  \n",
      "      15                 0.0     0.0          0.0        0  \n",
      "      16                 0.0     0.0          0.0        0  \n",
      "      17                 0.0     0.0          0.0        0  \n",
      "      18                 0.0     0.0          0.0        0  \n",
      "      19                 0.0     0.0          0.0        0  \n",
      "      20                 0.0     0.0          0.0        0  \n",
      "      21                 0.0     0.0          0.0        0  \n",
      "      22                 0.0     0.0          0.0        0  \n",
      "      23                 0.0     0.0          0.0        0  \n",
      "      24                 0.0     0.0          0.0        0  \n",
      "      25                 0.0     0.0          0.0        1  \n",
      "      26                 0.0     0.0          0.0        0  \n",
      "      27                 0.0     0.0          0.0        0  \n",
      "      28                 0.0     0.0          0.0        1  \n",
      "      29                 0.0     0.0          0.0        1  \n",
      "...                      ...     ...          ...      ...  \n",
      "1998  26                 0.0     0.0          0.0        0  \n",
      "1999  0                  0.0     0.0          0.0        1  \n",
      "      1                  0.0     0.0          0.0        0  \n",
      "      2                  0.0     0.0          0.0        0  \n",
      "      3                  0.0     0.0          0.0        1  \n",
      "      4                  0.0     0.0          0.0        1  \n",
      "      5                  0.0     0.0          0.0        1  \n",
      "      6                  0.0     0.0          0.0        0  \n",
      "      7                  0.0     0.0          0.0        0  \n",
      "      8                  0.0     0.0          0.0        0  \n",
      "      9                  0.0     0.0          0.0        0  \n",
      "      10                 0.0     0.0          0.0        0  \n",
      "      11                 0.0     0.0          0.0        1  \n",
      "      12                 0.0     0.0          0.0        0  \n",
      "      13                 0.0     0.0          0.0        0  \n",
      "      14                 0.0     0.0          0.0        0  \n",
      "      15                 0.0     0.0          0.0        0  \n",
      "      16                 0.0     0.0          0.0        0  \n",
      "      17                 0.0     0.0          0.0        0  \n",
      "      18                 0.0     0.0          0.0        0  \n",
      "      19                 0.0     0.0          0.0        0  \n",
      "      20                 0.0     0.0          0.0        0  \n",
      "      21                 0.0     0.0          0.0        0  \n",
      "      22                 0.0     0.0          0.0        0  \n",
      "      23                 0.0     0.0          0.0        0  \n",
      "      24                 0.0     0.0          0.0        0  \n",
      "      25                 0.0     0.0          0.0        1  \n",
      "      26                 0.0     0.0          0.0        0  \n",
      "      27                 0.0     0.0          0.0        0  \n",
      "      28                 0.0     0.0          0.0        0  \n",
      "\n",
      "[60750 rows x 9 columns]\n"
     ]
    }
   ],
   "source": [
    "##################DATAFRAME##################\n",
    "dataframe = tree.pandas.df()                                                       \n",
    "\n",
    "#dataset = tree.pandas.df([\"Match_z\",\"Match_tracks\",\"Merge_z\",\"Merge_tracks\",\"ismerge\"]) \n",
    "dataset = tree.pandas.df([\"Match_z\",\"Match_tracks\",\"Merge_z\",\"Merge_tracks\",\"Split_z\",\"Split_tracks\",\"Fake_z\",\"Fake_tracks\",\"ismerge\"]) \n",
    "\n",
    "print (dataset.describe()) \n",
    "print (dataset)\n",
    "                                                                                   \n",
    "                                                                                   \n",
    "features = dataset.loc[:, dataset.columns != \"ismerge\"].values   \n",
    "labels = dataset.loc[:, \"ismerge\"].values                                       "
   ]
  },
  {
   "cell_type": "code",
   "execution_count": null,
   "metadata": {},
   "outputs": [],
   "source": [
    "from sklearn.model_selection import train_test_split\n",
    "X_train, X_test, y_train, y_test = train_test_split(\n",
    "    features, labels, test_size=0.2, random_state=42)\n",
    "\n",
    "model = Sequential()\n",
    "model.add(Dense(units=7, activation='relu'))\n",
    "#model.add(Dense(units=8, activation='sigmoid'))\n",
    "#model.add(Dense(units=8, activation='softmax'))\n",
    "#model.add(Dense(units=4, activation='softmax'))\n",
    "model.add(Dense(units=2, activation='sigmoid'))\n",
    "#model.add(Dense(units=1, activation='softmax'))\n",
    "model.add(Dense(units=1, activation='sigmoid'))\n"
   ]
  },
  {
   "cell_type": "code",
   "execution_count": null,
   "metadata": {},
   "outputs": [],
   "source": [
    "model.compile(loss='binary_crossentropy',\n",
    "              optimizer='adam',\n",
    "              metrics=['accuracy'])"
   ]
  },
  {
   "cell_type": "code",
   "execution_count": null,
   "metadata": {},
   "outputs": [
    {
     "name": "stdout",
     "output_type": "stream",
     "text": [
      "Train on 48600 samples, validate on 12150 samples\n",
      "Epoch 1/10\n",
      "48600/48600 [==============================] - 3s 69us/step - loss: 0.3645 - acc: 0.9880 - val_loss: 0.1955 - val_acc: 1.0000\n",
      "Epoch 2/10\n",
      "48600/48600 [==============================] - 3s 70us/step - loss: 0.1311 - acc: 1.0000 - val_loss: 0.0858 - val_acc: 1.0000\n",
      "Epoch 3/10\n",
      "48600/48600 [==============================] - 3s 71us/step - loss: 0.0607 - acc: 1.0000 - val_loss: 0.0418 - val_acc: 1.0000\n",
      "Epoch 4/10\n",
      "48600/48600 [==============================] - 3s 70us/step - loss: 0.0303 - acc: 1.0000 - val_loss: 0.0214 - val_acc: 1.0000\n",
      "Epoch 5/10\n",
      "48600/48600 [==============================] - 3s 70us/step - loss: 0.0157 - acc: 1.0000 - val_loss: 0.0112 - val_acc: 1.0000\n",
      "Epoch 6/10\n",
      "48600/48600 [==============================] - 4s 73us/step - loss: 0.0083 - acc: 1.0000 - val_loss: 0.0059 - val_acc: 1.0000\n",
      "Epoch 7/10\n",
      "22368/48600 [============>.................] - ETA: 1s - loss: 0.0051 - acc: 1.0000"
     ]
    }
   ],
   "source": [
    "from keras.callbacks import TensorBoard\n",
    "\n",
    "tensorboard = TensorBoard(log_dir='./logs/run1/', \n",
    "                          write_graph=True, \n",
    "                          write_images=False)\n",
    "\n",
    "\n",
    "#model.fit(features, labels, epochs=10, batch_size=50) #verbose=0 \n",
    "#model.fit(features, labels, epochs=3, batch_size=100) #verbose=0\n",
    "model.fit(X_train, y_train,\n",
    "          epochs=10,\n",
    "          validation_data=(X_test, y_test),\n",
    "          shuffle=True,\n",
    "          #verbose=False,\n",
    "          callbacks=[tensorboard])\n"
   ]
  },
  {
   "cell_type": "code",
   "execution_count": 45,
   "metadata": {},
   "outputs": [
    {
     "name": "stdout",
     "output_type": "stream",
     "text": [
      "60750/60750 [==============================] - 3s 47us/step\n",
      "acc: 100.00%\n"
     ]
    }
   ],
   "source": [
    "scores = model.evaluate(features, labels) #verbose=0  \n",
    "print(\"%s: %.2f%%\" % (model.metrics_names[1], scores[1]*100))                      \n"
   ]
  },
  {
   "cell_type": "code",
   "execution_count": 24,
   "metadata": {},
   "outputs": [
    {
     "name": "stdout",
     "output_type": "stream",
     "text": [
      "_________________________________________________________________\n",
      "Layer (type)                 Output Shape              Param #   \n",
      "=================================================================\n",
      "dense_37 (Dense)             (None, 64)                320       \n",
      "_________________________________________________________________\n",
      "dense_38 (Dense)             (None, 8)                 520       \n",
      "_________________________________________________________________\n",
      "dense_39 (Dense)             (None, 4)                 36        \n",
      "_________________________________________________________________\n",
      "dense_40 (Dense)             (None, 1)                 5         \n",
      "=================================================================\n",
      "Total params: 881\n",
      "Trainable params: 881\n",
      "Non-trainable params: 0\n",
      "_________________________________________________________________\n"
     ]
    }
   ],
   "source": [
    "model.summary()"
   ]
  },
  {
   "cell_type": "code",
   "execution_count": 25,
   "metadata": {},
   "outputs": [
    {
     "data": {
      "text/plain": [
       "array([[1.],\n",
       "       [1.],\n",
       "       [1.],\n",
       "       ...,\n",
       "       [1.],\n",
       "       [1.],\n",
       "       [1.]], dtype=float32)"
      ]
     },
     "execution_count": 25,
     "metadata": {},
     "output_type": "execute_result"
    }
   ],
   "source": [
    "model.predict(features)"
   ]
  },
  {
   "cell_type": "code",
   "execution_count": null,
   "metadata": {},
   "outputs": [],
   "source": []
  }
 ],
 "metadata": {
  "kernelspec": {
   "display_name": "Python 3",
   "language": "python",
   "name": "python3"
  },
  "language_info": {
   "codemirror_mode": {
    "name": "ipython",
    "version": 3
   },
   "file_extension": ".py",
   "mimetype": "text/x-python",
   "name": "python",
   "nbconvert_exporter": "python",
   "pygments_lexer": "ipython3",
   "version": "3.6.5"
  }
 },
 "nbformat": 4,
 "nbformat_minor": 2
}
