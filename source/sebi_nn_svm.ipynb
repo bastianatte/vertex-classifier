{
 "cells": [
  {
   "cell_type": "code",
   "execution_count": 5,
   "metadata": {},
   "outputs": [],
   "source": [
    "import uproot "
   ]
  },
  {
   "cell_type": "code",
   "execution_count": 6,
   "metadata": {},
   "outputs": [],
   "source": [
    "import pandas                                                                      \n",
    "from sklearn import svm\n",
    "from sklearn.model_selection import GridSearchCV\n",
    "from sklearn.model_selection import train_test_split"
   ]
  },
  {
   "cell_type": "code",
   "execution_count": 7,
   "metadata": {},
   "outputs": [],
   "source": [
    "f = uproot.open(\"/home/sebi/Documents/lxplus-stuff/QT_NN/Data/NN_full.root\")                                                                                 \n",
    "tree = f['Merged_Analysis;1']"
   ]
  },
  {
   "cell_type": "code",
   "execution_count": 9,
   "metadata": {},
   "outputs": [],
   "source": [
    "##################DATAFRAME##################\n",
    "dataframe = tree.pandas.df()                                                       \n",
    "\n",
    "#dataset = tree.pandas.df([\"Match_z\",\"Match_tracks\",\"Merge_z\",\"Merge_tracks\",\"ismerge\"]) \n",
    "dataset = tree.pandas.df([\"Match_z\",\"Match_tracks\",\"Merge_z\",\"Merge_tracks\",\"Split_z\",\"Split_tracks\",\"Fake_z\",\"Fake_tracks\",\"ismerge\"]) \n",
    "\n",
    "#print (dataset.describe()) \n",
    "#print (dataset)\n",
    "                                                                                   \n",
    "                                                                                   \n",
    "features = dataset.loc[:, dataset.columns != \"ismerge\"].values   \n",
    "labels = dataset.loc[:, \"ismerge\"].values                                       "
   ]
  },
  {
   "cell_type": "code",
   "execution_count": 10,
   "metadata": {},
   "outputs": [],
   "source": [
    "X_train, X_test, y_train, y_test = train_test_split(\n",
    "    features, labels, test_size=0.2, random_state=42)\n",
    "\n",
    "def svc_param_selection(features, labels):\n",
    "    \"\"\"\n",
    "    It performs a search for the best combination\n",
    "    of hyperparameters (C, gamma) for the support vector machine\n",
    "    using GridSearchCV. \n",
    "\n",
    "    It takes two numpy arrays as input:\n",
    "      - features has to be a 2D np array\n",
    "      - labels has to be a 1D np array\n",
    "\n",
    "    It returns a dictionary with 'C' and 'gamma' as keys\n",
    "    and the found values as values, e.g. \n",
    "\n",
    "    {'C': 1, 'gamma': 0.001}\n",
    "\n",
    "    \"\"\"\n",
    "    Cs = [0.001, 0.01, 0.1, 1, 10]\n",
    "    gammas = [0.001, 0.01, 0.1, 1]\n",
    "    param_grid = {'C': Cs, 'gamma': gammas}\n",
    "    grid_search = GridSearchCV(svm.SVC(), param_grid)\n",
    "    grid_search.fit(features, labels)\n",
    "    par = grid_search.best_params_\n",
    "    return par\n",
    "\n"
   ]
  },
  {
   "cell_type": "code",
   "execution_count": null,
   "metadata": {},
   "outputs": [],
   "source": [
    "\n",
    "par = svc_param_selection(features, labels)\n",
    "clf = svm.SVC(C=par['C'],\n",
    "              gamma=par['gamma'],\n",
    "              probability=True)\n",
    "print(\"INFO :: Fitting the data\")\n"
   ]
  },
  {
   "cell_type": "code",
   "execution_count": null,
   "metadata": {},
   "outputs": [],
   "source": [
    "clf.fit(features, labels)"
   ]
  },
  {
   "cell_type": "code",
   "execution_count": null,
   "metadata": {},
   "outputs": [],
   "source": []
  }
 ],
 "metadata": {
  "kernelspec": {
   "display_name": "Python 3",
   "language": "python",
   "name": "python3"
  },
  "language_info": {
   "codemirror_mode": {
    "name": "ipython",
    "version": 3
   },
   "file_extension": ".py",
   "mimetype": "text/x-python",
   "name": "python",
   "nbconvert_exporter": "python",
   "pygments_lexer": "ipython3",
   "version": "3.6.5"
  }
 },
 "nbformat": 4,
 "nbformat_minor": 2
}
